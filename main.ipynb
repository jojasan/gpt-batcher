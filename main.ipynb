{
 "cells": [
  {
   "cell_type": "code",
   "execution_count": null,
   "metadata": {},
   "outputs": [],
   "source": [
    "from batcher import *\n",
    "instruction = \"The data provided is a list of companies. For each company figure out it's domain and place it in the attribute 'domain'. Always include the top-level domain or TLD. If you don't know the domain, leave it blank.\"\n",
    "result = process_csv(\"data/infer_new_col_example.csv\", 15, instruction)"
   ]
  },
  {
   "cell_type": "code",
   "execution_count": null,
   "metadata": {},
   "outputs": [],
   "source": [
    "instruction = \"The data provided is a list of companies. For each company figure out it's domain and place it in the attribute 'domain'. Always include the top-level domain or TLD. If you don't know the domain, leave it blank.\"\n",
    "result = process_csv(\"data/clean_data_example.csv\", 15, instruction)"
   ]
  },
  {
   "cell_type": "code",
   "execution_count": null,
   "metadata": {},
   "outputs": [],
   "source": []
  }
 ],
 "metadata": {
  "kernelspec": {
   "display_name": "Python 3",
   "language": "python",
   "name": "python3"
  },
  "language_info": {
   "codemirror_mode": {
    "name": "ipython",
    "version": 3
   },
   "file_extension": ".py",
   "mimetype": "text/x-python",
   "name": "python",
   "nbconvert_exporter": "python",
   "pygments_lexer": "ipython3",
   "version": "3.12.2"
  }
 },
 "nbformat": 4,
 "nbformat_minor": 2
}
